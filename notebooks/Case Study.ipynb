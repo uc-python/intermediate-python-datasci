{
 "cells": [
  {
   "cell_type": "markdown",
   "metadata": {},
   "source": [
    "# Case Study"
   ]
  },
  {
   "cell_type": "markdown",
   "metadata": {},
   "source": [
    "## Part 1"
   ]
  },
  {
   "cell_type": "markdown",
   "metadata": {},
   "source": [
    "1. Load in the data in `companies.csv` and `prices.csv` (in the data folder)."
   ]
  },
  {
   "cell_type": "markdown",
   "metadata": {},
   "source": [
    "2. Write a function `is_incorporated` that checks whether an input string, `name`, contains the substring \"inc\" or \"Inc\". Its definition should look like this:\n",
    "```python\n",
    "def is_incorporated(name):\n",
    "```\n",
    "(Yes, all these companies are *technically* incorporated, but bear with us for the exercise.)\n",
    "<br>\n",
    "*Hint: you may want to google something like \"check if one string is within another Python\"*"
   ]
  },
  {
   "cell_type": "markdown",
   "metadata": {},
   "source": [
    "3. Test this function to be sure it works. Try passing in some strings that contain the substring and some that don't. Test it on data from the companies DataFrame."
   ]
  },
  {
   "cell_type": "markdown",
   "metadata": {},
   "source": [
    "4. Write a `for` loop to iterate through the elements in the Name column of the companies data, applying `is_incorporated` to each element and printing the result."
   ]
  },
  {
   "cell_type": "markdown",
   "metadata": {},
   "source": [
    "5. Now rewrite the code for #4 using the `Series.apply` method -- apply the function to the Series and print the resulting Series."
   ]
  },
  {
   "cell_type": "markdown",
   "metadata": {},
   "source": [
    "6. *Similar, but less guided.* Create a new column, name_length, whose value is:\n",
    "    - `\"long\"` if the company name is over 12 characters\n",
    "    - `\"medium\"` if the company name is 8-11 characters\n",
    "    - `\"short\"` if the company name is 7 or fewer characters."
   ]
  },
  {
   "cell_type": "markdown",
   "metadata": {},
   "source": [
    "7. Write a function `make_colname_string` that takes a DataFrame as an argument and returns a string that contains all the DataFrame's columns' names, comma separated. For example, running `make_colname_string` on our companies data would look like this:<br><br>\n",
    "```python\n",
    "make_colname_string(companies)\n",
    "#> 'Symbol,Name,Sector'\n",
    "```\n",
    "<br>*Hint: a `for` loop will be helpful.*\n",
    "<br>Test it on the prices data. What does it return?"
   ]
  },
  {
   "cell_type": "markdown",
   "metadata": {},
   "source": [
    "### Putting It All Together\n",
    "Suppose you've discovered a great secret about the stock market: companies with long names (as defined above) are going to double in value after quarter 4 (our most recent data), companies with short names are going to halve in value, and medium-name companies will stay exactly the same. Create a dataset of the form:\n",
    "\n",
    "| Name | Symbol | Projected |\n",
    "-------|--------|------------\n",
    "\n",
    "Where \"Projected\" is the projected price of the company's stock (2x, 1x, .5x as explained above). Note that you will need to join companies to prices and do some data wrangling operations."
   ]
  },
  {
   "cell_type": "markdown",
   "metadata": {},
   "source": [
    "## Part 2"
   ]
  },
  {
   "cell_type": "markdown",
   "metadata": {},
   "source": [
    "*Modeling*\n",
    "\n",
    "1. Load in the data in `cars.csv` (in the data folder)"
   ]
  },
  {
   "cell_type": "markdown",
   "metadata": {},
   "source": [
    "2. Explore the data:\n",
    "  * How many rows are in the data?\n",
    "  * What does each row represent?\n",
    "  * How many columns are in the data?\n",
    "  * What data type is each column?"
   ]
  },
  {
   "cell_type": "markdown",
   "metadata": {},
   "source": [
    "3. Set up your model specification to predict the MSRP of each car.\n",
    "  * What column will be your target?\n",
    "  * Which columns will be your features?"
   ]
  },
  {
   "cell_type": "markdown",
   "metadata": {},
   "source": [
    "4. Prepare your data.\n",
    "  * View the target variable's distribution. Remove outliers if necessary.\n",
    "  * Engineer your features (encode categorical variables, etc.)\n",
    "  * Split your data into train and test sets."
   ]
  },
  {
   "cell_type": "markdown",
   "metadata": {},
   "source": [
    "5. Train a linear model using `sklearn.linear_model`'s `LinearRegression`."
   ]
  },
  {
   "cell_type": "markdown",
   "metadata": {},
   "source": [
    "6. Is this model good?\n",
    "  * Is it better than any other estimate we have?\n",
    "  * What's the train RMSE? What's the test RMSE? How do they compare to the standard deviation of the target?\n",
    "  * Create a predicted vs. actual plot?\n",
    "  * Which variables have the largest effect size?"
   ]
  },
  {
   "cell_type": "markdown",
   "metadata": {},
   "source": [
    "*Python Environments*\n",
    "\n",
    "7. While training and running your model should have been pretty fast, imagine that you are working with orders of magnitude more data -- so you want to train the model overnight, rather than interactively.\n",
    "  * Export your Jupyter notebook as a `.py` script.\n",
    "  * Be sure to add `print()` calls so you can see important data.\n",
    "  * Run your `.py` file from the command line, and verify the results."
   ]
  },
  {
   "cell_type": "markdown",
   "metadata": {},
   "source": [
    "8. Think back to Lesson 8, on the data science ecosystem. \n",
    "  * Which package sounded most interesting/useful to you? \n",
    "  * If you are working on a platform with `conda`, create a new environment called \"temporary\".\n",
    "  * Activate the `temporary` environment.\n",
    "  * Install your package of choice package in `temporary`. \n",
    "  * Try to import it in a notebook (remember you'll need to get your conda environment working in Jupyter), and look in the online documentation (just google \"package-name docs\") to figure out what you can do with this package."
   ]
  }
 ],
 "metadata": {
  "kernelspec": {
   "display_name": "Python 3",
   "language": "python",
   "name": "python3"
  },
  "language_info": {
   "codemirror_mode": {
    "name": "ipython",
    "version": 3
   },
   "file_extension": ".py",
   "mimetype": "text/x-python",
   "name": "python",
   "nbconvert_exporter": "python",
   "pygments_lexer": "ipython3",
   "version": "3.7.3"
  }
 },
 "nbformat": 4,
 "nbformat_minor": 4
}
