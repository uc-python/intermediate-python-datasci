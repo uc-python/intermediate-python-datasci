{
 "cells": [
  {
   "cell_type": "markdown",
   "metadata": {
    "slideshow": {
     "slide_type": "slide"
    }
   },
   "source": [
    "# Intermediate Python for Data Science\n",
    "\n",
    "Gus Powers and Jay Cunningham\n",
    "\n",
    "October and November 2023"
   ]
  },
  {
   "cell_type": "markdown",
   "metadata": {
    "slideshow": {
     "slide_type": "slide"
    }
   },
   "source": [
    "## Introductions"
   ]
  },
  {
   "cell_type": "markdown",
   "metadata": {
    "slideshow": {
     "slide_type": "slide"
    }
   },
   "source": [
    "## Gus Powers\n",
    "<table><tr>\n",
    "  <td><img width=\"300\" src=\"images/gus.jpg\"></td>\n",
    "  <td>\n",
    "    <h3><strong>Lead Data Scientist</strong> at 84.51&deg;</h3>\n",
    "    <ul>\n",
    "      <li>Creating and maintaining data science tools for internal use</li>\n",
    "      <li>Python, Bash (shell), & R</li>\n",
    "    </ul>\n",
    "    <h4>Academic</h4>\n",
    "    <ul>\n",
    "      <li>BS, Chemistry, Thomas More College</li>\n",
    "      <li>MS, Chemistry, University of Cincinnati</li>\n",
    "      <li>MS, Business Analytics, University of Cincinnati</li>\n",
    "    </ul>\n",
    "    <h4>Contact</h4>\n",
    "    <ul>\n",
    "      <li>GitHub: <a href=\"https://github.com/augustopher\">augustopher</a></li>\n",
    "      <li>LinkedIn: <a href=\"https://www.linkedin.com/in/august-powers-09717481/\">August Powers</a></li>\n",
    "      <li>Email: <a href=\"mailto:guspowers0@gmail.com\">guspowers0@gmail.com</a></li>\n",
    "    </ul>\n",
    "    </td>\n",
    "</tr></table>"
   ]
  },
  {
   "cell_type": "markdown",
   "metadata": {
    "slideshow": {
     "slide_type": "slide"
    }
   },
   "source": [
    "## Jay Cunningham\n",
    "<table><tr>\n",
    "  <td><img width=\"300\" src=\"images/jay.jpg\"></td>\n",
    "  <td>\n",
    "    <h3><strong>Lead Data Scientist</strong> at 84.51&deg;</h3>\n",
    "    <ul>\n",
    "      <li>Researching and developing forecasting models</li>\n",
    "      <li>Machine learning, Python</li>\n",
    "    </ul>\n",
    "    <h4>Academic</h4>\n",
    "    <ul>\n",
    "        <li>BA, Mathematics, University of Kentucky</li>\n",
    "        <li>MA, Economics, University of North Carolina (Greensboro)</li>\n",
    "    </ul>\n",
    "    <h4>Contact</h4>\n",
    "    <ul>\n",
    "      <li>LinkedIn: <a href=\"https://www.linkedin.com/mwlite/in/jay-cunningham-60612886\">Jay Cunningham</a></li>\n",
    "      <li>Email: <a href=\"mailto:james@notbadafterall.com\">james@notbadafterall.com</a></li>\n",
    "    </ul>\n",
    "    </td>\n",
    "</tr></table>"
   ]
  },
  {
   "cell_type": "markdown",
   "metadata": {
    "cell_style": "split",
    "slideshow": {
     "slide_type": "skip"
    }
   },
   "source": [
    "## Brad Boehmke\n",
    "<table><tr>\n",
    "    <td><img width=\"300\" src=\"images/brad.jpg\"></td>\n",
    "    <td>\n",
    "      <h4><strong>Director, Data Science</strong> at 84.51&deg;</h4>\n",
    "      <ul>\n",
    "        <li>Productionizing models and science solutions</li>\n",
    "        <li>R&D and protogyping new solutions</li>\n",
    "        <li>Python, R, & MLOps toolchain</li>\n",
    "      </ul>\n",
    "      <h4>Academic</h4>\n",
    "      <ul>\n",
    "          <li>BS, Kinesiology, North Dakota State University</li>\n",
    "          <li>MS, Cost Analytics, Air Force Institute of Technology</li>\n",
    "          <li>PhD, Logistics, Air Force Institute of Technology</li>\n",
    "      </ul>\n",
    "      <h4>Contact</h4>\n",
    "      <ul>\n",
    "          <li>Website: <a href=\"http://bradleyboehmke.github.io/\">bradleyboehmke.github.io</a></li>\n",
    "          <li>GitHub: <a href=\"https://github.com/bradleyboehmke\">bradleyboehmke</a></li>\n",
    "          <li>Twitter: <a href=\"https://twitter.com/bradleyboehmke\">@bradleyboehmke</a></li>\n",
    "          <li>LinkedIn: <a href=\"https://www.linkedin.com/in/brad-boehmke-ph-d-9b0a257\">Brad Boehmke, PhD</a></li>\n",
    "          <li>Email: <a href=\"mailto:bradleyboehmke@gmail.com\">bradleyboehmke@gmail.com</a></li>\n",
    "      </ul>\n",
    "    </td>\n",
    "</tr></table>"
   ]
  },
  {
   "cell_type": "markdown",
   "metadata": {
    "cell_style": "center",
    "slideshow": {
     "slide_type": "skip"
    }
   },
   "source": [
    "## Ethan Swan\n",
    "<table><tr>\n",
    "  <td><img width=\"300\" src=\"images/ethan.jpg\"></td>\n",
    "  <td>\n",
    "    <h4><strong>Senior Backend Engineer</strong> at ReviewTrackers</h4>\n",
    "    <ul>\n",
    "      <li>Rest API development</li>\n",
    "      <li>Putting ML models in production</li>\n",
    "      <li>Python, Go, Ruby, & ReactJS (JavaScript)</li>\n",
    "    </ul>\n",
    "    <h4>Academic</h4>\n",
    "    <ul>\n",
    "        <li>BS, Computer Science, University of Notre Dame</li>\n",
    "        <li>MBA, Business Analytics, University of Notre Dame</li>\n",
    "    </ul>\n",
    "    <h4>Contact</h4>\n",
    "    <ul>\n",
    "        <li>Website: <a href=\"https://ethanswan.com\">ethanswan.com</a></li>\n",
    "        <li>GitHub: <a href=\"https://github.com/eswan18/\">eswan18</a></li>\n",
    "        <li>Twitter: <a href=\"https://twitter.com/eswan18\">@eswan18</a></li>\n",
    "        <li>LinkedIn: <a href=\"https://linkedin.com/in/ethanpswan\">Ethan Swan</a></li>\n",
    "        <li>Email: <a href=\"mailto:ethanpswan@gmail.com\">ethanpswan@gmail.com</a></li>\n",
    "    </ul>\n",
    "    </td>\n",
    "</tr></table>"
   ]
  },
  {
   "cell_type": "markdown",
   "metadata": {
    "slideshow": {
     "slide_type": "slide"
    }
   },
   "source": [
    "## Your Turn\n",
    "\n",
    "We'll go around the room. Please share:\n",
    "- Your name\n",
    "- Your job or field\n",
    "- How you hope to use Python in the future"
   ]
  },
  {
   "cell_type": "markdown",
   "metadata": {
    "slideshow": {
     "slide_type": "slide"
    }
   },
   "source": [
    "## Course"
   ]
  },
  {
   "cell_type": "markdown",
   "metadata": {
    "slideshow": {
     "slide_type": "slide"
    }
   },
   "source": [
    "### Defining Data Science\n",
    "\n",
    "<center>\n",
    "<img src=\"images/data-science.png\" alt=\"data-science.png\" width=\"900\" height=\"900\">\n",
    "</center>"
   ]
  },
  {
   "cell_type": "markdown",
   "metadata": {
    "slideshow": {
     "slide_type": "slide"
    }
   },
   "source": [
    "### Data Science and Technology\n",
    "\n",
    "<center>\n",
    "<img src=\"images/data-science-and-tech.png\" alt=\"data-science-and-tech.png\" width=\"1100\" height=\"1100\">\n",
    "</center>"
   ]
  },
  {
   "cell_type": "markdown",
   "metadata": {
    "slideshow": {
     "slide_type": "slide"
    }
   },
   "source": [
    "### Applied Data Science\n",
    "\n",
    "<center>\n",
    "<img src=\"images/applied-data-science.gif\" alt=\"applied-data-science.gif\" width=\"1200\" height=\"1200\">\n",
    "</center>"
   ]
  },
  {
   "cell_type": "markdown",
   "metadata": {
    "slideshow": {
     "slide_type": "slide"
    }
   },
   "source": [
    "## Course Objectives\n",
    "\n",
    "The following are the primary learning objectives of this course:"
   ]
  },
  {
   "cell_type": "markdown",
   "metadata": {
    "slideshow": {
     "slide_type": "fragment"
    }
   },
   "source": [
    "- Learn to use control flow and custom functions to work with data more efficiently."
   ]
  },
  {
   "cell_type": "markdown",
   "metadata": {
    "slideshow": {
     "slide_type": "fragment"
    }
   },
   "source": [
    "- Build awareness and basic skills in working with Python from the shell and its environments."
   ]
  },
  {
   "cell_type": "markdown",
   "metadata": {
    "slideshow": {
     "slide_type": "fragment"
    }
   },
   "source": [
    "- Gain exposure to Python's data science ecosystem and modeling via scikit-learn."
   ]
  },
  {
   "cell_type": "markdown",
   "metadata": {
    "slideshow": {
     "slide_type": "slide"
    }
   },
   "source": [
    "## Course Agenda"
   ]
  },
  {
   "cell_type": "markdown",
   "metadata": {
    "slideshow": {
     "slide_type": "slide"
    }
   },
   "source": [
    "| Day | Topic                                                                          |     Time      |\n",
    "| :-: | :----------------------------------------------------------------------------- | :-----------: |\n",
    "|  1  | Introductions                                                                  | 12:45 - 1:00  |\n",
    "|     | Setting the Stage                                                              |  1:00 - 1:30  |\n",
    "|     | Conditions                                                                     |  1:30 - 2:15  |\n",
    "|     | Break                                                                          |  2:15 - 2:30  |\n",
    "|     | Iterations                                                                     |  2:30 - 3:45  |\n",
    "|     | Q&A                                                                            |  3:45 - 4:15  | \n",
    "|  2  | Q&A                                                                            | 12:45 - 1:15  | \n",
    "|     | Functions                                                                      |  1:15 - 2:15  |\n",
    "|     | Applying Functions to pandas Data Frames                                       |  2:15 - 2:45  |\n",
    "|     | Break                                                                          |  2:45 - 3:00  |\n",
    "|     | Case Study, pt. 1                                                              |  3:00 - 4:00  |\n",
    "|     | Q&A                                                                            |  4:00 - 4:15  |"
   ]
  },
  {
   "cell_type": "markdown",
   "metadata": {
    "slideshow": {
     "slide_type": "slide"
    }
   },
   "source": [
    "| Day | Topic                                                                          |     Time      |\n",
    "| :-: | :----------------------------------------------------------------------------- | :-----------: |\n",
    "|  3  | Q&A                                                                            | 12:45 - 1:15  | \n",
    "|     | Case Study Review, pt. 1                                                       |  1:15 - 1:45  |\n",
    "|     | Python from the Shell                                                          |  1:45 - 2:45  |\n",
    "|     | Break                                                                          |  2:45 - 3:00  |\n",
    "|     | Kernels and Environments                                                       |  3:00 - 3:45  |\n",
    "|     | Python Data Science Ecosystem                                                  |  3:45 - 4:00  |\n",
    "|     | Q&A                                                                            |  4:00 - 4:15  |\n",
    "|  4  | Q&A                                                                            | 12:45 - 1:15  |\n",
    "|     | Modeling with scikit-learn                                                     |  1:15 - 2:15  |\n",
    "|     | Case Study, pt. 2                                                              |  2:15 - 3:30  |\n",
    "|     | Case Study Review, pt. 2                                                       |  3:30 - 4:00  |\n",
    "|     | Q&A                                                                            |  4:00 - 4:15  |"
   ]
  },
  {
   "cell_type": "markdown",
   "metadata": {
    "slideshow": {
     "slide_type": "slide"
    }
   },
   "source": [
    "## Prerequisites"
   ]
  },
  {
   "cell_type": "markdown",
   "metadata": {
    "slideshow": {
     "slide_type": "slide"
    }
   },
   "source": [
    "### Python\n",
    "\n",
    "* If you're attending this class, it's assumed you're comfortable with the material covered in the [Introduction to Python for Data Science class](https://github.com/uc-python/intermediate-python-datasci).\n",
    "* As a reminder, that course's objectives are:\n",
    "  * Develop comprehensive skills in the importing/exporting, wrangling, aggregating and joining of data using Python.\n",
    "  * Establish a mental model of the Python programming language to enable future self-learning.\n",
    "  * Build awareness and basic skills in the core data science area of data visualization."
   ]
  },
  {
   "cell_type": "markdown",
   "metadata": {
    "slideshow": {
     "slide_type": "slide"
    }
   },
   "source": [
    "### Jupyter\n",
    "\n",
    "* If you're attending this class, it's assumed you're comfortable with launching and using Python via Jupyter Notebooks.\n",
    "* Course materials (slides, case studies, etc.) will be in Jupyter Notebooks, but you're free to use your IDE of choice when completing exercises and case studies."
   ]
  },
  {
   "cell_type": "markdown",
   "metadata": {
    "slideshow": {
     "slide_type": "slide"
    }
   },
   "source": [
    "## Technology Setup"
   ]
  },
  {
   "cell_type": "markdown",
   "metadata": {
    "slideshow": {
     "slide_type": "slide"
    }
   },
   "source": [
    "### Binder\n",
    "\n",
    "* This class is designed to be accessible through [Binder](https://mybinder.org/) -- a cloud-based JupyterLab hosting platform.\n",
    "* As a result, no setup is technically *required* on your part if you would like to use Binder.\n",
    "* However, Binder sessions are ephemeral and **will not save your work**\n",
    "    - You can download your notebooks if you want to keep them\n",
    "* Thus, we recommend doing exercises and case studies in your own Python environment if possible.\n",
    "    - This way you can save your work."
   ]
  },
  {
   "cell_type": "markdown",
   "metadata": {
    "slideshow": {
     "slide_type": "slide"
    }
   },
   "source": [
    "### Anaconda\n",
    "\n",
    "* Anaconda is the easiest way to install Python 3 and Jupyter.\n",
    "* If you have not yet installed Anaconda, please follow the [directions in the course README](https://github.com/uc-python/intermediate-python-datasci).\n",
    "* Be sure that all Python packages mentioned in the README are also installed: `pandas`, `numpy`, `scikit-learn`, and `seaborn`.\n",
    "* This Anaconda installation will not be able to natively display the course content as slides, but we recommend it for completing exercises and the case studies."
   ]
  },
  {
   "cell_type": "markdown",
   "metadata": {
    "slideshow": {
     "slide_type": "slide"
    }
   },
   "source": [
    "### JupyterLab\n",
    "- JupyterLab is the application that lets us view and edit notebooks.\n",
    "- JupyterLab comes with Anaconda."
   ]
  },
  {
   "cell_type": "markdown",
   "metadata": {
    "slideshow": {
     "slide_type": "slide"
    }
   },
   "source": [
    "## Course Materials"
   ]
  },
  {
   "cell_type": "markdown",
   "metadata": {
    "slideshow": {
     "slide_type": "fragment"
    }
   },
   "source": [
    "* All of the material for this course can be reached from our [GitHub](https://github.com/uc-python/intermediate-python-datasci) repository.\n",
    "* This repository has access to the slides, notebooks and the training source code.\n",
    "* You can either access this material through [Binder](https://mybinder.org/v2/gh/uc-python/intermediate-python-datasci/master) or by [downloading the material](https://github.com/uc-python/intermediate-python-datasci/archive/master.zip)\n",
    " and opening it via Anaconda Navigator and Jupyter Lab."
   ]
  },
  {
   "cell_type": "markdown",
   "metadata": {
    "slideshow": {
     "slide_type": "slide"
    }
   },
   "source": [
    "### Slides *are* Notebooks"
   ]
  },
  {
   "cell_type": "markdown",
   "metadata": {
    "slideshow": {
     "slide_type": "fragment"
    }
   },
   "source": [
    "- I'll be showing the material in slide format.\n",
    "- These slides contain the same content as your notebooks, so you can follow along and run cells as we go."
   ]
  },
  {
   "cell_type": "markdown",
   "metadata": {
    "slideshow": {
     "slide_type": "slide"
    }
   },
   "source": [
    "### Source Code"
   ]
  },
  {
   "cell_type": "markdown",
   "metadata": {
    "slideshow": {
     "slide_type": "fragment"
    }
   },
   "source": [
    "* Source code for the training can be found on [GitHub](https://github.com/uc-python/intermediate-python-datasci).\n",
    "* This repository is public so you can clone (download) and/or refer to the materials at any point in the future."
   ]
  },
  {
   "cell_type": "markdown",
   "metadata": {
    "slideshow": {
     "slide_type": "slide"
    }
   },
   "source": [
    "## Questions\n",
    "\n",
    "Are there any questions before moving on?"
   ]
  }
 ],
 "metadata": {
  "celltoolbar": "Slideshow",
  "kernelspec": {
   "display_name": "Python 3",
   "language": "python",
   "name": "python3"
  },
  "language_info": {
   "codemirror_mode": {
    "name": "ipython",
    "version": 3
   },
   "file_extension": ".py",
   "mimetype": "text/x-python",
   "name": "python",
   "nbconvert_exporter": "python",
   "pygments_lexer": "ipython3",
   "version": "3.9.2"
  },
  "rise": {
   "autolaunch": true,
   "transition": "none"
  }
 },
 "nbformat": 4,
 "nbformat_minor": 4
}
