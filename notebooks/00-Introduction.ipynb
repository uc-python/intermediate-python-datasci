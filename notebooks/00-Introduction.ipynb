{
 "cells": [
  {
   "cell_type": "markdown",
   "metadata": {
    "slideshow": {
     "slide_type": "slide"
    }
   },
   "source": [
    "# Intermediate Python for Data Science\n",
    "\n",
    "Ethan Swan\n",
    "\n",
    "October 31 & November 1, 2019"
   ]
  },
  {
   "cell_type": "markdown",
   "metadata": {
    "slideshow": {
     "slide_type": "slide"
    }
   },
   "source": [
    "## Introductions"
   ]
  },
  {
   "cell_type": "markdown",
   "metadata": {
    "slideshow": {
     "slide_type": "slide"
    }
   },
   "source": [
    "### About Ethan"
   ]
  },
  {
   "cell_type": "markdown",
   "metadata": {
    "cell_style": "split",
    "slideshow": {
     "slide_type": "-"
    }
   },
   "source": [
    "<center>\n",
    "<img src=\"images/ethan-headshot.gif\" alt=\"ethan-headshot.gif\" width=\"300\" height=\"300\">\n",
    "</center>"
   ]
  },
  {
   "cell_type": "markdown",
   "metadata": {
    "cell_style": "split",
    "slideshow": {
     "slide_type": "-"
    }
   },
   "source": [
    "#### Professional\n",
    "\n",
    "* Senior Data Scientist\n",
    "* Enable the Talent\n",
    "* 84.51&deg;"
   ]
  },
  {
   "cell_type": "markdown",
   "metadata": {
    "cell_style": "center",
    "slideshow": {
     "slide_type": "slide"
    }
   },
   "source": [
    "#### Academic\n",
    "\n",
    "* BS, Computer Science, University of Notre Dame\n",
    "* MBA, Business Analytics, University of Notre Dame"
   ]
  },
  {
   "cell_type": "markdown",
   "metadata": {
    "cell_style": "center",
    "slideshow": {
     "slide_type": "-"
    }
   },
   "source": [
    "#### Contact\n",
    "\n",
    "* Website: [ethanswan.com](http://www.ethanswan.com/)\n",
    "* GitHub: [@eswan18](https://github.com/eswan18/)\n",
    "* Twitter: [@eswan18](https://twitter.com/eswan18)\n",
    "* LinkedIn: [Ethan Swan](https://linkedin.com/in/ethanpswan)\n",
    "* Email: [ethanpswan@gmail.com](mailto:ethanpswan@gmail.com)"
   ]
  },
  {
   "cell_type": "markdown",
   "metadata": {
    "slideshow": {
     "slide_type": "slide"
    }
   },
   "source": [
    "## Course"
   ]
  },
  {
   "cell_type": "markdown",
   "metadata": {
    "slideshow": {
     "slide_type": "slide"
    }
   },
   "source": [
    "### Defining Data Science\n",
    "\n",
    "<center>\n",
    "<img src=\"images/data-science.png\" alt=\"data-science.png\" width=\"900\" height=\"900\">\n",
    "</center>"
   ]
  },
  {
   "cell_type": "markdown",
   "metadata": {
    "slideshow": {
     "slide_type": "slide"
    }
   },
   "source": [
    "### Data Science and Technology\n",
    "\n",
    "<center>\n",
    "<img src=\"images/data-science-and-tech.png\" alt=\"data-science-and-tech.png\" width=\"1100\" height=\"1100\">\n",
    "</center>"
   ]
  },
  {
   "cell_type": "markdown",
   "metadata": {
    "slideshow": {
     "slide_type": "slide"
    }
   },
   "source": [
    "### Applied Data Science\n",
    "\n",
    "<center>\n",
    "<img src=\"images/applied-data-science.gif\" alt=\"applied-data-science.gif\" width=\"1200\" height=\"1200\">\n",
    "</center>"
   ]
  },
  {
   "cell_type": "markdown",
   "metadata": {
    "slideshow": {
     "slide_type": "slide"
    }
   },
   "source": [
    "## Course Objectives\n",
    "\n",
    "The following are the primary learning objectives of this course:"
   ]
  },
  {
   "cell_type": "markdown",
   "metadata": {
    "slideshow": {
     "slide_type": "fragment"
    }
   },
   "source": [
    "1. Learn to use control flow and custom functions to work with data more efficiently."
   ]
  },
  {
   "cell_type": "markdown",
   "metadata": {
    "slideshow": {
     "slide_type": "fragment"
    }
   },
   "source": [
    "2. Build awareness and basic skills in working with Python from the shell and its environments."
   ]
  },
  {
   "cell_type": "markdown",
   "metadata": {
    "slideshow": {
     "slide_type": "fragment"
    }
   },
   "source": [
    "3. Exposure to Python's data science ecosystem and modeling via scikit-learn."
   ]
  },
  {
   "cell_type": "markdown",
   "metadata": {
    "slideshow": {
     "slide_type": "slide"
    }
   },
   "source": [
    "## Course Agenda"
   ]
  },
  {
   "cell_type": "markdown",
   "metadata": {
    "slideshow": {
     "slide_type": "slide"
    }
   },
   "source": [
    "### Day 1\n",
    "\n",
    "| Topic                                                                          |     Time      |\n",
    "| :----------------------------------------------------------------------------- | :-----------: |\n",
    "| Breakfast / Social Time                                                        |  8:00 - 9:00  |\n",
    "| Introductions                                                                  |  9:00 - 9:15  |\n",
    "| Working with Data using pandas                                                 |  9:15 - 9:45  |\n",
    "| Conditions                                                                     |  9:45 - 10:30 |\n",
    "| Break                                                                          | 10:30 - 10:45 |\n",
    "| Iterations                                                                     | 10:45 - 12:00 |\n",
    "| Lunch                                                                          | 12:00 - 1:00  |\n",
    "| Functions                                                                      |  1:00 - 2:00  |\n",
    "| Applying Functions to pandas Data Frames                                       |  2:00 - 2:30  |\n",
    "| Break                                                                          |  2:30 - 2:45  |\n",
    "| Case Study, pt. 1                                                              |  2:45 - 4:00  |\n",
    "| Q\\&A                                                                           |  4:00 - 4:30  | "
   ]
  },
  {
   "cell_type": "markdown",
   "metadata": {
    "slideshow": {
     "slide_type": "slide"
    }
   },
   "source": [
    "### Day 2\n",
    "\n",
    "| Topic                                                                          |     Time      |\n",
    "| :----------------------------------------------------------------------------- | :-----------: |\n",
    "| Breakfast / Social Time                                                        |  8:00 - 9:00  |\n",
    "| Case Study Review, pt. 1                                                       |  9:00 - 9:30  |\n",
    "| Python from the Shell                                                          |  9:30 - 10:30 |\n",
    "| Break                                                                          | 10:30 - 10:45 |\n",
    "| Kernels and Environments                                                       | 10:45 - 11:30 |\n",
    "| Python Data Science Ecosystem                                                  | 11:30 - 12:00 |\n",
    "| Lunch                                                                          | 12:00 - 1:00  |\n",
    "| Modeling with scikit-learn                                                     |  1:00 - 2:00  |\n",
    "| Case Study, pt. 2                                                              |  2:00 - 3:15  |\n",
    "| Case Study Review, pt. 2 and Q\\&A                                              |  3:15 - 4:00  |"
   ]
  },
  {
   "cell_type": "markdown",
   "metadata": {
    "slideshow": {
     "slide_type": "slide"
    }
   },
   "source": [
    "## Prerequisites"
   ]
  },
  {
   "cell_type": "markdown",
   "metadata": {
    "slideshow": {
     "slide_type": "slide"
    }
   },
   "source": [
    "### Knowledge"
   ]
  },
  {
   "cell_type": "markdown",
   "metadata": {
    "slideshow": {
     "slide_type": "fragment"
    }
   },
   "source": [
    "#### Python\n",
    "\n",
    "* If you're attending this class, it's assumed you're comfortable with the material covered in the [Introduction to Python for Data Science class](https://github.com/uc-python/intermediate-python-datasci).\n",
    "* As a reminder, that course's objectives are:\n",
    "  * Develop comprehensive skills in the importing/exporting, wrangling, aggregating and joining of data using Python.\n",
    "  * Establish a mental model of the Python programming language to enable future self-learning.\n",
    "  * Build awareness and basic skills in the core data science area of data visualization."
   ]
  },
  {
   "cell_type": "markdown",
   "metadata": {
    "slideshow": {
     "slide_type": "slide"
    }
   },
   "source": [
    "#### Technology\n",
    "\n",
    "* If you're attending this class, it's assumed you're comfortable with launching and using Python via Jupyter Notebooks.\n",
    "* Course materials (slides, case studies, etc.) will be in Jupyter Notebooks, but you're free to use your IDE of choice when completing exercises and case studies."
   ]
  },
  {
   "cell_type": "markdown",
   "metadata": {
    "slideshow": {
     "slide_type": "slide"
    }
   },
   "source": [
    "### Technology Installation"
   ]
  },
  {
   "cell_type": "markdown",
   "metadata": {
    "slideshow": {
     "slide_type": "fragment"
    }
   },
   "source": [
    "#### Binder\n",
    "\n",
    "* We've developed this class using to be accessible through [Binder](https://mybinder.org/) -- a cloud-based Jupyter Notebook hosting platform.\n",
    "* As a result, no setup on your part is technically *required* on your part if you would like to use Binder.\n",
    "* Binder will be used to access the course slides, but we recommend doing exercises and case studies in your own Python environment."
   ]
  },
  {
   "cell_type": "markdown",
   "metadata": {
    "slideshow": {
     "slide_type": "slide"
    }
   },
   "source": [
    "#### Anaconda\n",
    "\n",
    "* Anaconda is the easiest way to install Python 3 and Jupyter.\n",
    "* If you have not yet installed Anaconda, please follow the [directions in the course README](https://github.com/uc-python/intermediate-python-datasci).\n",
    "* Be sure that all Python packages mentioned in the README are also installed: `pandas`, `numpy`, `scikit-learn`, and `seaborn`.\n",
    "* This Anaconda installation will not be able to access the course slides, but we recommend using it for completing exercises and the case studies."
   ]
  },
  {
   "cell_type": "markdown",
   "metadata": {
    "slideshow": {
     "slide_type": "slide"
    }
   },
   "source": [
    "## Course Materials"
   ]
  },
  {
   "cell_type": "markdown",
   "metadata": {
    "slideshow": {
     "slide_type": "fragment"
    }
   },
   "source": [
    "* All of the material for this course can be reached from our [GitHub](https://github.com/uc-python/intermediate-python-datasci) repository.\n",
    "* This repository has access to the slides, notebooks and the training source code.\n",
    "* You can either access this material through [Binder](https://mybinder.org/v2/gh/uc-python/intermediate-python-datasci/master) or by [downloading the material](https://github.com/uc-python/intermediate-python-datasci/archive/master.zip)\n",
    " and opening it via Anaconda Navigator and Jupyter Notebooks."
   ]
  },
  {
   "cell_type": "markdown",
   "metadata": {
    "slideshow": {
     "slide_type": "slide"
    }
   },
   "source": [
    "### Interactive slides *and* notebooks"
   ]
  },
  {
   "cell_type": "markdown",
   "metadata": {
    "slideshow": {
     "slide_type": "fragment"
    }
   },
   "source": [
    "* Interactive slides will be used to present the material.\n",
    "  * These slides are an **active Python session**, so you can write your code directly within them!\n",
    "* These slides can **only be accessed via Binder**, and are accessed by clicking the \"notebooks\" folder in Jupyter.\n",
    "* After opening a notebook, the slides will automatically render. If you want to go to exit the slideshow, you can press `OPTION` + `R` (Mac) or `ALT` + `R` (Windows) to go back to the notebook."
   ]
  },
  {
   "cell_type": "markdown",
   "metadata": {
    "slideshow": {
     "slide_type": "slide"
    }
   },
   "source": [
    "### Source Code"
   ]
  },
  {
   "cell_type": "markdown",
   "metadata": {
    "slideshow": {
     "slide_type": "fragment"
    }
   },
   "source": [
    "* Source code for the training can be found on [GitHub](https://github.com/uc-python/intermediate-python-datasci).\n",
    "* This repository is public so you can clone (download) and/or refer to the materials at any point in the future."
   ]
  },
  {
   "cell_type": "markdown",
   "metadata": {
    "slideshow": {
     "slide_type": "slide"
    }
   },
   "source": [
    "## Questions\n",
    "\n",
    "Are there any questions before moving on?"
   ]
  }
 ],
 "metadata": {
  "celltoolbar": "Slideshow",
  "kernelspec": {
   "display_name": "Python 3",
   "language": "python",
   "name": "python3"
  },
  "language_info": {
   "codemirror_mode": {
    "name": "ipython",
    "version": 3
   },
   "file_extension": ".py",
   "mimetype": "text/x-python",
   "name": "python",
   "nbconvert_exporter": "python",
   "pygments_lexer": "ipython3",
   "version": "3.7.3"
  },
  "rise": {
   "autolaunch": true,
   "transition": "none"
  }
 },
 "nbformat": 4,
 "nbformat_minor": 4
}
