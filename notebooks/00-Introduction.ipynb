{
 "cells": [
  {
   "cell_type": "markdown",
   "metadata": {
    "slideshow": {
     "slide_type": "slide"
    }
   },
   "source": [
    "# Intermediate Python for Data Science\n",
    "\n",
    "Ethan Swan\n",
    "\n",
    "October 31 & November 1, 2019"
   ]
  },
  {
   "cell_type": "markdown",
   "metadata": {
    "slideshow": {
     "slide_type": "slide"
    }
   },
   "source": [
    "## Introductions"
   ]
  },
  {
   "cell_type": "markdown",
   "metadata": {
    "cell_style": "split",
    "slideshow": {
     "slide_type": "slide"
    }
   },
   "source": [
    "<h2>About Me</h2>\n",
    "<img src=\"images/ethan-headshot.gif\" alt=\"ethan-headshot.gif\" width=\"300\" height=\"300\" style=\"display:inline;float:left;padding:40px;\">\n",
    "<br><br>\n",
    "<h3 style=\"display:inline;\">Professional</h3>\n",
    "<br><br>\n",
    "Lead Data Scientist and Technology Specialist -- 84.51&deg;\n",
    "<br><br>\n",
    "<hr>\n",
    "<h3 style=\"display:inline;\">Academic</h3>\n",
    "<br><br>\n",
    "BS in Computer Science, University of Notre Dame <br><br>\n",
    "MBA, Concentration in Business Analytics, University of Notre Dame"
   ]
  },
  {
   "cell_type": "markdown",
   "metadata": {
    "cell_style": "center",
    "slideshow": {
     "slide_type": "skip"
    }
   },
   "source": [
    "#### Contact\n",
    "\n",
    "* Website: [ethanswan.com](http://www.ethanswan.com/)\n",
    "* GitHub: [@eswan18](https://github.com/eswan18/)\n",
    "* Twitter: [@eswan18](https://twitter.com/eswan18)\n",
    "* LinkedIn: [Ethan Swan](https://linkedin.com/in/ethanpswan)\n",
    "* Email: [ethanpswan@gmail.com](mailto:ethanpswan@gmail.com)"
   ]
  },
  {
   "cell_type": "markdown",
   "metadata": {
    "slideshow": {
     "slide_type": "slide"
    }
   },
   "source": [
    "## Your Turn\n",
    "\n",
    "We'll go around the room. Please share:\n",
    "- Your name\n",
    "- Your job or field\n",
    "- How you hope to use Python in the future"
   ]
  },
  {
   "cell_type": "markdown",
   "metadata": {
    "slideshow": {
     "slide_type": "slide"
    }
   },
   "source": [
    "## Course"
   ]
  },
  {
   "cell_type": "markdown",
   "metadata": {
    "slideshow": {
     "slide_type": "slide"
    }
   },
   "source": [
    "### Defining Data Science\n",
    "\n",
    "<center>\n",
    "<img src=\"images/data-science.png\" alt=\"data-science.png\" width=\"900\" height=\"900\">\n",
    "</center>"
   ]
  },
  {
   "cell_type": "markdown",
   "metadata": {
    "slideshow": {
     "slide_type": "slide"
    }
   },
   "source": [
    "### Data Science and Technology\n",
    "\n",
    "<center>\n",
    "<img src=\"images/data-science-and-tech.png\" alt=\"data-science-and-tech.png\" width=\"1100\" height=\"1100\">\n",
    "</center>"
   ]
  },
  {
   "cell_type": "markdown",
   "metadata": {
    "slideshow": {
     "slide_type": "slide"
    }
   },
   "source": [
    "### Applied Data Science\n",
    "\n",
    "<center>\n",
    "<img src=\"images/applied-data-science.gif\" alt=\"applied-data-science.gif\" width=\"1200\" height=\"1200\">\n",
    "</center>"
   ]
  },
  {
   "cell_type": "markdown",
   "metadata": {
    "slideshow": {
     "slide_type": "slide"
    }
   },
   "source": [
    "## Course Objectives\n",
    "\n",
    "The following are the primary learning objectives of this course:"
   ]
  },
  {
   "cell_type": "markdown",
   "metadata": {
    "slideshow": {
     "slide_type": "fragment"
    }
   },
   "source": [
    "- Learn to use control flow and custom functions to work with data more efficiently."
   ]
  },
  {
   "cell_type": "markdown",
   "metadata": {
    "slideshow": {
     "slide_type": "fragment"
    }
   },
   "source": [
    "- Build awareness and basic skills in working with Python from the shell and its environments."
   ]
  },
  {
   "cell_type": "markdown",
   "metadata": {
    "slideshow": {
     "slide_type": "fragment"
    }
   },
   "source": [
    "- Gain exposure to Python's data science ecosystem and modeling via scikit-learn."
   ]
  },
  {
   "cell_type": "markdown",
   "metadata": {
    "slideshow": {
     "slide_type": "slide"
    }
   },
   "source": [
    "## Course Agenda"
   ]
  },
  {
   "cell_type": "markdown",
   "metadata": {
    "slideshow": {
     "slide_type": "slide"
    }
   },
   "source": [
    "### Day 1\n",
    "\n",
    "| Topic                                                                          |     Time      |\n",
    "| :----------------------------------------------------------------------------- | ------------: |\n",
    "| Breakfast / Social Time                                                        |  8:00 - 9:00  |\n",
    "| Introductions                                                                  |  9:00 - 9:15  |\n",
    "| Working with Data using pandas                                                 |  9:15 - 9:45  |\n",
    "| Conditions                                                                     |  9:45 - 10:30 |\n",
    "| Break                                                                          | 10:30 - 10:45 |\n",
    "| Iterations                                                                     | 10:45 - 12:00 |\n",
    "| Lunch                                                                          | 12:00 - 1:00  |\n",
    "| Functions                                                                      |  1:00 - 2:00  |\n",
    "| Applying Functions to pandas Data Frames                                       |  2:00 - 2:30  |\n",
    "| Break                                                                          |  2:30 - 2:45  |\n",
    "| Case Study, pt. 1                                                              |  2:45 - 4:00  |\n",
    "| Q\\&A                                                                           |  4:00 - 4:30  | "
   ]
  },
  {
   "cell_type": "markdown",
   "metadata": {
    "slideshow": {
     "slide_type": "slide"
    }
   },
   "source": [
    "### Day 2\n",
    "\n",
    "| Topic                                                                          |     Time      |\n",
    "| :----------------------------------------------------------------------------- | ------------: |\n",
    "| Breakfast / Social Time                                                        |  8:00 - 9:00  |\n",
    "| Case Study Review, pt. 1                                                       |  9:00 - 9:30  |\n",
    "| Python from the Shell                                                          |  9:30 - 10:30 |\n",
    "| Break                                                                          | 10:30 - 10:45 |\n",
    "| Kernels and Environments                                                       | 10:45 - 11:30 |\n",
    "| Python Data Science Ecosystem                                                  | 11:30 - 12:00 |\n",
    "| Lunch                                                                          | 12:00 - 1:00  |\n",
    "| Modeling with scikit-learn                                                     |  1:00 - 2:00  |\n",
    "| Case Study, pt. 2                                                              |  2:00 - 3:15  |\n",
    "| Case Study Review, pt. 2 and Q\\&A                                              |  3:15 - 4:00  |"
   ]
  },
  {
   "cell_type": "markdown",
   "metadata": {
    "slideshow": {
     "slide_type": "slide"
    }
   },
   "source": [
    "## Prerequisites"
   ]
  },
  {
   "cell_type": "markdown",
   "metadata": {
    "slideshow": {
     "slide_type": "slide"
    }
   },
   "source": [
    "### Knowledge"
   ]
  },
  {
   "cell_type": "markdown",
   "metadata": {
    "slideshow": {
     "slide_type": "fragment"
    }
   },
   "source": [
    "#### Python\n",
    "\n",
    "* If you're attending this class, it's assumed you're comfortable with the material covered in the [Introduction to Python for Data Science class](https://github.com/uc-python/intermediate-python-datasci).\n",
    "* As a reminder, that course's objectives are:\n",
    "  * Develop comprehensive skills in the importing/exporting, wrangling, aggregating and joining of data using Python.\n",
    "  * Establish a mental model of the Python programming language to enable future self-learning.\n",
    "  * Build awareness and basic skills in the core data science area of data visualization."
   ]
  },
  {
   "cell_type": "markdown",
   "metadata": {
    "slideshow": {
     "slide_type": "slide"
    }
   },
   "source": [
    "#### Technology\n",
    "\n",
    "* If you're attending this class, it's assumed you're comfortable with launching and using Python via Jupyter Notebooks.\n",
    "* Course materials (slides, case studies, etc.) will be in Jupyter Notebooks, but you're free to use your IDE of choice when completing exercises and case studies."
   ]
  },
  {
   "cell_type": "markdown",
   "metadata": {
    "slideshow": {
     "slide_type": "slide"
    }
   },
   "source": [
    "### Technology Installation"
   ]
  },
  {
   "cell_type": "markdown",
   "metadata": {
    "slideshow": {
     "slide_type": "fragment"
    }
   },
   "source": [
    "#### Binder\n",
    "\n",
    "* This class is designed to be accessible through [Binder](https://mybinder.org/) -- a cloud-based Jupyter Notebook hosting platform.\n",
    "* As a result, no setup is technically *required* on your part if you would like to use Binder.\n",
    "* However, I recommend doing exercises and case studies in your own Python environment if possible.\n",
    "    - This way you can save your work."
   ]
  },
  {
   "cell_type": "markdown",
   "metadata": {
    "slideshow": {
     "slide_type": "slide"
    }
   },
   "source": [
    "#### Anaconda\n",
    "\n",
    "* Anaconda is the easiest way to install Python 3 and Jupyter.\n",
    "* If you have not yet installed Anaconda, please follow the [directions in the course README](https://github.com/uc-python/intermediate-python-datasci).\n",
    "* Be sure that all Python packages mentioned in the README are also installed: `pandas`, `numpy`, `scikit-learn`, and `seaborn`.\n",
    "* This Anaconda installation will not be able to natively display the course content as slides, but I recommend using it for completing exercises and the case studies."
   ]
  },
  {
   "cell_type": "markdown",
   "metadata": {
    "slideshow": {
     "slide_type": "slide"
    }
   },
   "source": [
    "#### JupyterLab\n",
    "- If you took the introductory course, you used Jupyter Notebooks to write Python.\n",
    "- Jupyter Notebooks are slowly being deprecated in favor of a new, more featureful product called JupyterLab.\n",
    "- Unfortunately, Binder has some bugs in using JupyterLab\n",
    "    - If you use Binder, you'll need to keep using Jupyter Notebooks\n",
    "- **If you're not using Binder, I'd recommend using JupyterLab for this class**\n",
    "    - The learning curve should be almost zero!"
   ]
  },
  {
   "cell_type": "markdown",
   "metadata": {
    "slideshow": {
     "slide_type": "slide"
    }
   },
   "source": [
    "## Course Materials"
   ]
  },
  {
   "cell_type": "markdown",
   "metadata": {
    "slideshow": {
     "slide_type": "fragment"
    }
   },
   "source": [
    "* All of the material for this course can be reached from our [GitHub](https://github.com/uc-python/intermediate-python-datasci) repository.\n",
    "* This repository has access to the slides, notebooks and the training source code.\n",
    "* You can either access this material through [Binder](https://mybinder.org/v2/gh/uc-python/intermediate-python-datasci/master) or by [downloading the material](https://github.com/uc-python/intermediate-python-datasci/archive/master.zip)\n",
    " and opening it via Anaconda Navigator and Jupyter Notebooks/Lab."
   ]
  },
  {
   "cell_type": "markdown",
   "metadata": {
    "slideshow": {
     "slide_type": "slide"
    }
   },
   "source": [
    "### Slides *and* Notebooks"
   ]
  },
  {
   "cell_type": "markdown",
   "metadata": {
    "slideshow": {
     "slide_type": "fragment"
    }
   },
   "source": [
    "- I'll be showing the material in slide format.\n",
    "- These slides contain the same content as your notebooks, so you can follow along and run cells as we go."
   ]
  },
  {
   "cell_type": "markdown",
   "metadata": {
    "slideshow": {
     "slide_type": "slide"
    }
   },
   "source": [
    "### Source Code"
   ]
  },
  {
   "cell_type": "markdown",
   "metadata": {
    "slideshow": {
     "slide_type": "fragment"
    }
   },
   "source": [
    "* Source code for the training can be found on [GitHub](https://github.com/uc-python/intermediate-python-datasci).\n",
    "* This repository is public so you can clone (download) and/or refer to the materials at any point in the future."
   ]
  },
  {
   "cell_type": "markdown",
   "metadata": {
    "slideshow": {
     "slide_type": "slide"
    }
   },
   "source": [
    "## Questions\n",
    "\n",
    "Are there any questions before moving on?"
   ]
  }
 ],
 "metadata": {
  "celltoolbar": "Slideshow",
  "kernelspec": {
   "display_name": "Python 3",
   "language": "python",
   "name": "python3"
  },
  "language_info": {
   "codemirror_mode": {
    "name": "ipython",
    "version": 3
   },
   "file_extension": ".py",
   "mimetype": "text/x-python",
   "name": "python",
   "nbconvert_exporter": "python",
   "pygments_lexer": "ipython3",
   "version": "3.7.3"
  },
  "rise": {
   "autolaunch": true,
   "transition": "none"
  }
 },
 "nbformat": 4,
 "nbformat_minor": 4
}
