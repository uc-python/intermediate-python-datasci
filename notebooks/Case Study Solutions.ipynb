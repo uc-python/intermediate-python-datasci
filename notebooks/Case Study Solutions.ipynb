{
 "cells": [
  {
   "cell_type": "markdown",
   "metadata": {},
   "source": [
    "# Case Study"
   ]
  },
  {
   "cell_type": "markdown",
   "metadata": {},
   "source": [
    "## Part 1"
   ]
  },
  {
   "cell_type": "code",
   "execution_count": 1,
   "metadata": {},
   "outputs": [],
   "source": [
    "import pandas as pd"
   ]
  },
  {
   "cell_type": "markdown",
   "metadata": {},
   "source": [
    "1. Load in the data in `companies.csv` and `prices.csv` (in the data folder).\n",
    "2. Write a function `is_incorporated` that checks whether an input string, `name`, contains the substring \"inc\" or \"Inc\". Its definition should look like this:\n",
    "```python\n",
    "def is_incorporated(name):\n",
    "```\n",
    "(Yes, all these companies are *technically* incorporated, but bear with us for the exercise.)\n",
    "3. Test this function to be sure it works. Try passing in some strings that contain the substring and some that don't. Test it on data from the companies DataFrame.\n",
    "4. Write a `for` loop to iterate through the elements in the Name column of the companies data, applying `is_incorporated` to each element and printing the result.\n",
    "5. Now rewrite the code for #4 using the `Series.apply` method -- apply the function to the Series and print the resulting Series.\n",
    "6. *Similar, but less guided.* Create a new column, name_length, whose value is:\n",
    "    - `\"long\"` if the company name is over 12 characters\n",
    "    - `\"medium\"` if the company name is 8-11 characters\n",
    "    - `\"short\"` if the company name is 7 or fewer characters.\n",
    "7. Write a function `make_colname_string` that takes a DataFrame as an argument and returns a string that contains all the DataFrame's columns' names, comma separated. For example, running `make_colname_string` on our companies data would look like this:<br><br>\n",
    "```python\n",
    "make_colname_string(companies)\n",
    "#> 'Symbol,Name,Sector'\n",
    "```\n",
    "<br>*Hint: a for loop will be helpful.* Test it on the prices data. What does it return?\n",
    "    \n",
    "### Putting It All Together\n",
    "Suppose you've discovered a great secret about the stock market: companies with long names (as defined above) are going to double in value after quarter 4 (our most recent data), companies with short names are going to halve in value, and medium-name companies will stay exactly the same. Create a dataset of the form:\n",
    "| Name | Symbol | Projected |\n",
    "-------|--------|------------\n",
    "\n",
    "Where \"Projected\" is the projected price of the company's stock (2x, 1x, .5x as explained above). Note that you will need to join companies to prices and do some data wrangling operations."
   ]
  },
  {
   "cell_type": "markdown",
   "metadata": {},
   "source": [
    "## Part 2"
   ]
  },
  {
   "cell_type": "markdown",
   "metadata": {},
   "source": [
    "*Modeling*\n",
    "\n",
    "1. Load in the data in `cars.csv` (in the data folder)"
   ]
  },
  {
   "cell_type": "code",
   "execution_count": 2,
   "metadata": {},
   "outputs": [],
   "source": [
    "cars = pd.read_csv('../data/cars.csv')"
   ]
  },
  {
   "cell_type": "markdown",
   "metadata": {},
   "source": [
    "2. Explore the data:\n",
    "  * How many rows are in the data?\n",
    "  * What does each row represent?\n",
    "  * How many columns are in the data?\n",
    "  * What data type is each column?"
   ]
  },
  {
   "cell_type": "code",
   "execution_count": 3,
   "metadata": {},
   "outputs": [
    {
     "name": "stdout",
     "output_type": "stream",
     "text": [
      "Shape: (3156, 12)\n"
     ]
    },
    {
     "data": {
      "text/html": [
       "<div>\n",
       "<style scoped>\n",
       "    .dataframe tbody tr th:only-of-type {\n",
       "        vertical-align: middle;\n",
       "    }\n",
       "\n",
       "    .dataframe tbody tr th {\n",
       "        vertical-align: top;\n",
       "    }\n",
       "\n",
       "    .dataframe thead th {\n",
       "        text-align: right;\n",
       "    }\n",
       "</style>\n",
       "<table border=\"1\" class=\"dataframe\">\n",
       "  <thead>\n",
       "    <tr style=\"text-align: right;\">\n",
       "      <th></th>\n",
       "      <th>car_id</th>\n",
       "      <th>msrp</th>\n",
       "      <th>make</th>\n",
       "      <th>engine_hp</th>\n",
       "      <th>engine_cylinders</th>\n",
       "      <th>transmission_type</th>\n",
       "      <th>driven_wheels</th>\n",
       "      <th>number_of_doors</th>\n",
       "      <th>vehicle_size</th>\n",
       "      <th>vehicle_style</th>\n",
       "      <th>highway_mpg</th>\n",
       "      <th>city_mpg</th>\n",
       "    </tr>\n",
       "  </thead>\n",
       "  <tbody>\n",
       "    <tr>\n",
       "      <th>0</th>\n",
       "      <td>1</td>\n",
       "      <td>46135</td>\n",
       "      <td>BMW</td>\n",
       "      <td>335.0</td>\n",
       "      <td>6.0</td>\n",
       "      <td>MANUAL</td>\n",
       "      <td>rear wheel drive</td>\n",
       "      <td>2.0</td>\n",
       "      <td>Compact</td>\n",
       "      <td>Coupe</td>\n",
       "      <td>26</td>\n",
       "      <td>19</td>\n",
       "    </tr>\n",
       "    <tr>\n",
       "      <th>1</th>\n",
       "      <td>2</td>\n",
       "      <td>40650</td>\n",
       "      <td>BMW</td>\n",
       "      <td>300.0</td>\n",
       "      <td>6.0</td>\n",
       "      <td>MANUAL</td>\n",
       "      <td>rear wheel drive</td>\n",
       "      <td>2.0</td>\n",
       "      <td>Compact</td>\n",
       "      <td>Convertible</td>\n",
       "      <td>28</td>\n",
       "      <td>19</td>\n",
       "    </tr>\n",
       "    <tr>\n",
       "      <th>2</th>\n",
       "      <td>3</td>\n",
       "      <td>36350</td>\n",
       "      <td>BMW</td>\n",
       "      <td>300.0</td>\n",
       "      <td>6.0</td>\n",
       "      <td>MANUAL</td>\n",
       "      <td>rear wheel drive</td>\n",
       "      <td>2.0</td>\n",
       "      <td>Compact</td>\n",
       "      <td>Coupe</td>\n",
       "      <td>28</td>\n",
       "      <td>20</td>\n",
       "    </tr>\n",
       "    <tr>\n",
       "      <th>3</th>\n",
       "      <td>4</td>\n",
       "      <td>29450</td>\n",
       "      <td>BMW</td>\n",
       "      <td>230.0</td>\n",
       "      <td>6.0</td>\n",
       "      <td>MANUAL</td>\n",
       "      <td>rear wheel drive</td>\n",
       "      <td>2.0</td>\n",
       "      <td>Compact</td>\n",
       "      <td>Coupe</td>\n",
       "      <td>28</td>\n",
       "      <td>18</td>\n",
       "    </tr>\n",
       "    <tr>\n",
       "      <th>4</th>\n",
       "      <td>5</td>\n",
       "      <td>34500</td>\n",
       "      <td>BMW</td>\n",
       "      <td>230.0</td>\n",
       "      <td>6.0</td>\n",
       "      <td>MANUAL</td>\n",
       "      <td>rear wheel drive</td>\n",
       "      <td>2.0</td>\n",
       "      <td>Compact</td>\n",
       "      <td>Convertible</td>\n",
       "      <td>28</td>\n",
       "      <td>18</td>\n",
       "    </tr>\n",
       "  </tbody>\n",
       "</table>\n",
       "</div>"
      ],
      "text/plain": [
       "   car_id   msrp make  engine_hp  engine_cylinders transmission_type  \\\n",
       "0       1  46135  BMW      335.0               6.0            MANUAL   \n",
       "1       2  40650  BMW      300.0               6.0            MANUAL   \n",
       "2       3  36350  BMW      300.0               6.0            MANUAL   \n",
       "3       4  29450  BMW      230.0               6.0            MANUAL   \n",
       "4       5  34500  BMW      230.0               6.0            MANUAL   \n",
       "\n",
       "      driven_wheels  number_of_doors vehicle_size vehicle_style  highway_mpg  \\\n",
       "0  rear wheel drive              2.0      Compact         Coupe           26   \n",
       "1  rear wheel drive              2.0      Compact   Convertible           28   \n",
       "2  rear wheel drive              2.0      Compact         Coupe           28   \n",
       "3  rear wheel drive              2.0      Compact         Coupe           28   \n",
       "4  rear wheel drive              2.0      Compact   Convertible           28   \n",
       "\n",
       "   city_mpg  \n",
       "0        19  \n",
       "1        19  \n",
       "2        20  \n",
       "3        18  \n",
       "4        18  "
      ]
     },
     "execution_count": 3,
     "metadata": {},
     "output_type": "execute_result"
    }
   ],
   "source": [
    "print('Shape:', cars.shape)\n",
    "cars.head()"
   ]
  },
  {
   "cell_type": "code",
   "execution_count": 4,
   "metadata": {},
   "outputs": [
    {
     "data": {
      "text/plain": [
       "car_id                 int64\n",
       "msrp                   int64\n",
       "make                  object\n",
       "engine_hp            float64\n",
       "engine_cylinders     float64\n",
       "transmission_type     object\n",
       "driven_wheels         object\n",
       "number_of_doors      float64\n",
       "vehicle_size          object\n",
       "vehicle_style         object\n",
       "highway_mpg            int64\n",
       "city_mpg               int64\n",
       "dtype: object"
      ]
     },
     "execution_count": 4,
     "metadata": {},
     "output_type": "execute_result"
    }
   ],
   "source": [
    "cars.dtypes"
   ]
  },
  {
   "cell_type": "markdown",
   "metadata": {},
   "source": [
    "3. Set up your model specification to predict the MSRP of each car.\n",
    "  * What column will be your target?\n",
    "  * Which columns will be your features?"
   ]
  },
  {
   "cell_type": "code",
   "execution_count": 5,
   "metadata": {},
   "outputs": [],
   "source": [
    "# Drop columns unlikely to be of value.\n",
    "cars = cars.drop(['car_id'], axis=1)"
   ]
  },
  {
   "cell_type": "code",
   "execution_count": 6,
   "metadata": {},
   "outputs": [
    {
     "data": {
      "text/plain": [
       "['make',\n",
       " 'engine_hp',\n",
       " 'engine_cylinders',\n",
       " 'transmission_type',\n",
       " 'driven_wheels',\n",
       " 'number_of_doors',\n",
       " 'vehicle_size',\n",
       " 'vehicle_style',\n",
       " 'highway_mpg',\n",
       " 'city_mpg']"
      ]
     },
     "execution_count": 6,
     "metadata": {},
     "output_type": "execute_result"
    }
   ],
   "source": [
    "target_colname = 'msrp'\n",
    "feature_colnames = [column for column in cars.columns\n",
    "                    if column != target_colname]\n",
    "feature_colnames"
   ]
  },
  {
   "cell_type": "markdown",
   "metadata": {},
   "source": [
    "4. Prepare your data.\n",
    "  * View the target variable's distribution. Remove outliers if necessary.\n",
    "  * Engineer your features (encode categorical variables, etc.)\n",
    "  * Split your data into train and test sets."
   ]
  },
  {
   "cell_type": "code",
   "execution_count": 7,
   "metadata": {},
   "outputs": [
    {
     "data": {
      "image/png": "[encoded data removed]",
      "text/plain": [
       "<Figure size 432x288 with 1 Axes>"
      ]
     },
     "metadata": {
      "needs_background": "light"
     },
     "output_type": "display_data"
    }
   ],
   "source": [
    "import seaborn as sns\n",
    "%matplotlib inline\n",
    "sns.distplot(cars['msrp']);"
   ]
  },
  {
   "cell_type": "code",
   "execution_count": 8,
   "metadata": {},
   "outputs": [
    {
     "data": {
      "text/plain": [
       "132481.24999999988"
      ]
     },
     "execution_count": 8,
     "metadata": {},
     "output_type": "execute_result"
    }
   ],
   "source": [
    "# Determine an outlier threshold.\n",
    "outlier_threshold = cars['msrp'].quantile(.99)\n",
    "outlier_threshold"
   ]
  },
  {
   "cell_type": "code",
   "execution_count": 9,
   "metadata": {},
   "outputs": [],
   "source": [
    "# Filter out outliers.\n",
    "cars = cars[cars['msrp'] < outlier_threshold]"
   ]
  },
  {
   "cell_type": "code",
   "execution_count": 10,
   "metadata": {},
   "outputs": [
    {
     "data": {
      "text/html": [
       "<div>\n",
       "<style scoped>\n",
       "    .dataframe tbody tr th:only-of-type {\n",
       "        vertical-align: middle;\n",
       "    }\n",
       "\n",
       "    .dataframe tbody tr th {\n",
       "        vertical-align: top;\n",
       "    }\n",
       "\n",
       "    .dataframe thead th {\n",
       "        text-align: right;\n",
       "    }\n",
       "</style>\n",
       "<table border=\"1\" class=\"dataframe\">\n",
       "  <thead>\n",
       "    <tr style=\"text-align: right;\">\n",
       "      <th></th>\n",
       "      <th>msrp</th>\n",
       "      <th>engine_hp</th>\n",
       "      <th>engine_cylinders</th>\n",
       "      <th>number_of_doors</th>\n",
       "      <th>highway_mpg</th>\n",
       "      <th>city_mpg</th>\n",
       "      <th>make_BMW</th>\n",
       "      <th>make_Chevrolet</th>\n",
       "      <th>make_Dodge</th>\n",
       "      <th>make_Ford</th>\n",
       "      <th>...</th>\n",
       "      <th>vehicle_style_Convertible</th>\n",
       "      <th>vehicle_style_Convertible SUV</th>\n",
       "      <th>vehicle_style_Coupe</th>\n",
       "      <th>vehicle_style_Crew Cab Pickup</th>\n",
       "      <th>vehicle_style_Extended Cab Pickup</th>\n",
       "      <th>vehicle_style_Passenger Minivan</th>\n",
       "      <th>vehicle_style_Passenger Van</th>\n",
       "      <th>vehicle_style_Regular Cab Pickup</th>\n",
       "      <th>vehicle_style_Sedan</th>\n",
       "      <th>vehicle_style_Wagon</th>\n",
       "    </tr>\n",
       "  </thead>\n",
       "  <tbody>\n",
       "    <tr>\n",
       "      <th>0</th>\n",
       "      <td>46135</td>\n",
       "      <td>335.0</td>\n",
       "      <td>6.0</td>\n",
       "      <td>2.0</td>\n",
       "      <td>26</td>\n",
       "      <td>19</td>\n",
       "      <td>1</td>\n",
       "      <td>0</td>\n",
       "      <td>0</td>\n",
       "      <td>0</td>\n",
       "      <td>...</td>\n",
       "      <td>0</td>\n",
       "      <td>0</td>\n",
       "      <td>1</td>\n",
       "      <td>0</td>\n",
       "      <td>0</td>\n",
       "      <td>0</td>\n",
       "      <td>0</td>\n",
       "      <td>0</td>\n",
       "      <td>0</td>\n",
       "      <td>0</td>\n",
       "    </tr>\n",
       "    <tr>\n",
       "      <th>1</th>\n",
       "      <td>40650</td>\n",
       "      <td>300.0</td>\n",
       "      <td>6.0</td>\n",
       "      <td>2.0</td>\n",
       "      <td>28</td>\n",
       "      <td>19</td>\n",
       "      <td>1</td>\n",
       "      <td>0</td>\n",
       "      <td>0</td>\n",
       "      <td>0</td>\n",
       "      <td>...</td>\n",
       "      <td>1</td>\n",
       "      <td>0</td>\n",
       "      <td>0</td>\n",
       "      <td>0</td>\n",
       "      <td>0</td>\n",
       "      <td>0</td>\n",
       "      <td>0</td>\n",
       "      <td>0</td>\n",
       "      <td>0</td>\n",
       "      <td>0</td>\n",
       "    </tr>\n",
       "    <tr>\n",
       "      <th>2</th>\n",
       "      <td>36350</td>\n",
       "      <td>300.0</td>\n",
       "      <td>6.0</td>\n",
       "      <td>2.0</td>\n",
       "      <td>28</td>\n",
       "      <td>20</td>\n",
       "      <td>1</td>\n",
       "      <td>0</td>\n",
       "      <td>0</td>\n",
       "      <td>0</td>\n",
       "      <td>...</td>\n",
       "      <td>0</td>\n",
       "      <td>0</td>\n",
       "      <td>1</td>\n",
       "      <td>0</td>\n",
       "      <td>0</td>\n",
       "      <td>0</td>\n",
       "      <td>0</td>\n",
       "      <td>0</td>\n",
       "      <td>0</td>\n",
       "      <td>0</td>\n",
       "    </tr>\n",
       "    <tr>\n",
       "      <th>3</th>\n",
       "      <td>29450</td>\n",
       "      <td>230.0</td>\n",
       "      <td>6.0</td>\n",
       "      <td>2.0</td>\n",
       "      <td>28</td>\n",
       "      <td>18</td>\n",
       "      <td>1</td>\n",
       "      <td>0</td>\n",
       "      <td>0</td>\n",
       "      <td>0</td>\n",
       "      <td>...</td>\n",
       "      <td>0</td>\n",
       "      <td>0</td>\n",
       "      <td>1</td>\n",
       "      <td>0</td>\n",
       "      <td>0</td>\n",
       "      <td>0</td>\n",
       "      <td>0</td>\n",
       "      <td>0</td>\n",
       "      <td>0</td>\n",
       "      <td>0</td>\n",
       "    </tr>\n",
       "    <tr>\n",
       "      <th>4</th>\n",
       "      <td>34500</td>\n",
       "      <td>230.0</td>\n",
       "      <td>6.0</td>\n",
       "      <td>2.0</td>\n",
       "      <td>28</td>\n",
       "      <td>18</td>\n",
       "      <td>1</td>\n",
       "      <td>0</td>\n",
       "      <td>0</td>\n",
       "      <td>0</td>\n",
       "      <td>...</td>\n",
       "      <td>1</td>\n",
       "      <td>0</td>\n",
       "      <td>0</td>\n",
       "      <td>0</td>\n",
       "      <td>0</td>\n",
       "      <td>0</td>\n",
       "      <td>0</td>\n",
       "      <td>0</td>\n",
       "      <td>0</td>\n",
       "      <td>0</td>\n",
       "    </tr>\n",
       "  </tbody>\n",
       "</table>\n",
       "<p>5 rows × 41 columns</p>\n",
       "</div>"
      ],
      "text/plain": [
       "    msrp  engine_hp  engine_cylinders  number_of_doors  highway_mpg  city_mpg  \\\n",
       "0  46135      335.0               6.0              2.0           26        19   \n",
       "1  40650      300.0               6.0              2.0           28        19   \n",
       "2  36350      300.0               6.0              2.0           28        20   \n",
       "3  29450      230.0               6.0              2.0           28        18   \n",
       "4  34500      230.0               6.0              2.0           28        18   \n",
       "\n",
       "   make_BMW  make_Chevrolet  make_Dodge  make_Ford  ...  \\\n",
       "0         1               0           0          0  ...   \n",
       "1         1               0           0          0  ...   \n",
       "2         1               0           0          0  ...   \n",
       "3         1               0           0          0  ...   \n",
       "4         1               0           0          0  ...   \n",
       "\n",
       "   vehicle_style_Convertible  vehicle_style_Convertible SUV  \\\n",
       "0                          0                              0   \n",
       "1                          1                              0   \n",
       "2                          0                              0   \n",
       "3                          0                              0   \n",
       "4                          1                              0   \n",
       "\n",
       "   vehicle_style_Coupe  vehicle_style_Crew Cab Pickup  \\\n",
       "0                    1                              0   \n",
       "1                    0                              0   \n",
       "2                    1                              0   \n",
       "3                    1                              0   \n",
       "4                    0                              0   \n",
       "\n",
       "   vehicle_style_Extended Cab Pickup  vehicle_style_Passenger Minivan  \\\n",
       "0                                  0                                0   \n",
       "1                                  0                                0   \n",
       "2                                  0                                0   \n",
       "3                                  0                                0   \n",
       "4                                  0                                0   \n",
       "\n",
       "   vehicle_style_Passenger Van  vehicle_style_Regular Cab Pickup  \\\n",
       "0                            0                                 0   \n",
       "1                            0                                 0   \n",
       "2                            0                                 0   \n",
       "3                            0                                 0   \n",
       "4                            0                                 0   \n",
       "\n",
       "   vehicle_style_Sedan  vehicle_style_Wagon  \n",
       "0                    0                    0  \n",
       "1                    0                    0  \n",
       "2                    0                    0  \n",
       "3                    0                    0  \n",
       "4                    0                    0  \n",
       "\n",
       "[5 rows x 41 columns]"
      ]
     },
     "execution_count": 10,
     "metadata": {},
     "output_type": "execute_result"
    }
   ],
   "source": [
    "# Encode categorical variables\n",
    "prepped_cars = pd.get_dummies(cars)\n",
    "prepped_cars.head()"
   ]
  },
  {
   "cell_type": "code",
   "execution_count": 11,
   "metadata": {},
   "outputs": [
    {
     "name": "stdout",
     "output_type": "stream",
     "text": [
      "(2499, 41)\n",
      "(625, 41)\n"
     ]
    }
   ],
   "source": [
    "from sklearn.model_selection import train_test_split\n",
    "train_df, test_df = train_test_split(prepped_cars, test_size=0.2)\n",
    "print(train_df.shape)\n",
    "print(test_df.shape)"
   ]
  },
  {
   "cell_type": "markdown",
   "metadata": {},
   "source": [
    "5. Train a linear model using `sklearn.linear_model`'s `LinearRegression`."
   ]
  },
  {
   "cell_type": "code",
   "execution_count": 12,
   "metadata": {},
   "outputs": [],
   "source": [
    "Xtrain = train_df.drop('msrp', axis=1)\n",
    "ytrain = train_df['msrp']\n",
    "\n",
    "Xtest = test_df.drop('msrp', axis=1)\n",
    "ytest = test_df['msrp']"
   ]
  },
  {
   "cell_type": "code",
   "execution_count": 13,
   "metadata": {},
   "outputs": [],
   "source": [
    "from sklearn.linear_model import LinearRegression\n",
    "model = LinearRegression()"
   ]
  },
  {
   "cell_type": "code",
   "execution_count": 14,
   "metadata": {},
   "outputs": [
    {
     "data": {
      "text/plain": [
       "LinearRegression(copy_X=True, fit_intercept=True, n_jobs=None, normalize=False)"
      ]
     },
     "execution_count": 14,
     "metadata": {},
     "output_type": "execute_result"
    }
   ],
   "source": [
    "model.fit(X=Xtrain, y=ytrain)"
   ]
  },
  {
   "cell_type": "markdown",
   "metadata": {},
   "source": [
    "6. Is this model good?\n",
    "  * Is it better than any other estimate we have?\n",
    "  * What's the train RMSE? What's the test RMSE? How do they compare to the standard deviation of the target?\n",
    "  * Create a predicted vs. actual plot?\n",
    "  * Which variables have the largest effect size?"
   ]
  },
  {
   "cell_type": "code",
   "execution_count": 15,
   "metadata": {},
   "outputs": [],
   "source": [
    "# The most naive model we could build would predict the average price for every car. \n",
    "avg_price = cars['msrp'].mean()\n",
    "predicted = [avg_price]*len(ytrain)"
   ]
  },
  {
   "cell_type": "code",
   "execution_count": 16,
   "metadata": {},
   "outputs": [
    {
     "data": {
      "text/plain": [
       "19529.1566129569"
      ]
     },
     "execution_count": 16,
     "metadata": {},
     "output_type": "execute_result"
    }
   ],
   "source": [
    "# Let's see what the RMSE is of that model.\n",
    "from sklearn.metrics import mean_squared_error\n",
    "from math import sqrt\n",
    "actuals = ytrain\n",
    "sqrt(mean_squared_error(actuals, predicted))"
   ]
  },
  {
   "cell_type": "code",
   "execution_count": 17,
   "metadata": {},
   "outputs": [
    {
     "data": {
      "text/plain": [
       "8325.706689180912"
      ]
     },
     "execution_count": 17,
     "metadata": {},
     "output_type": "execute_result"
    }
   ],
   "source": [
    "# Now the RMSE of our trained linear model.\n",
    "actuals = ytrain\n",
    "predicted = model.predict(Xtrain)\n",
    "sqrt(mean_squared_error(actuals, predicted))"
   ]
  },
  {
   "cell_type": "markdown",
   "metadata": {},
   "source": [
    "*It's certainly a lot better than just predicting the average price!*"
   ]
  },
  {
   "cell_type": "code",
   "execution_count": 18,
   "metadata": {},
   "outputs": [
    {
     "data": {
      "text/plain": [
       "19525.67705472818"
      ]
     },
     "execution_count": 18,
     "metadata": {},
     "output_type": "execute_result"
    }
   ],
   "source": [
    "# What's the target standard deviation?\n",
    "cars['msrp'].std()"
   ]
  },
  {
   "cell_type": "markdown",
   "metadata": {},
   "source": [
    "*Again, our model is a lot better than that.*"
   ]
  },
  {
   "cell_type": "code",
   "execution_count": 19,
   "metadata": {},
   "outputs": [
    {
     "data": {
      "image/png": "[encoded data removed]",
      "text/plain": [
       "<Figure size 432x288 with 1 Axes>"
      ]
     },
     "metadata": {
      "needs_background": "light"
     },
     "output_type": "display_data"
    }
   ],
   "source": [
    "sns.scatterplot(y=predicted, x=actuals);"
   ]
  },
  {
   "cell_type": "markdown",
   "metadata": {},
   "source": [
    "*It looks like we actually are doing okay!*"
   ]
  },
  {
   "cell_type": "code",
   "execution_count": 20,
   "metadata": {},
   "outputs": [
    {
     "data": {
      "image/png": "[encoded data removed]",
      "text/plain": [
       "<Figure size 432x288 with 1 Axes>"
      ]
     },
     "metadata": {
      "needs_background": "light"
     },
     "output_type": "display_data"
    }
   ],
   "source": [
    "# Overlay a y=x line.\n",
    "sns.lineplot([0, 120_000], [0, 120_000])\n",
    "sns.scatterplot(y=predicted, x=actuals);"
   ]
  },
  {
   "cell_type": "code",
   "execution_count": 21,
   "metadata": {},
   "outputs": [],
   "source": [
    "# Effect size ... just copy this code from the slides.\n",
    "def get_coefficients(columns, model_object):\n",
    "    '''Function to sort get the sorted coefficients of a linear model'''\n",
    "    import operator\n",
    "    dictionary = dict(zip(columns, model_object.coef_))\n",
    "    return sorted(dictionary.items(), key = operator.itemgetter(1))"
   ]
  },
  {
   "cell_type": "code",
   "execution_count": 22,
   "metadata": {},
   "outputs": [
    {
     "data": {
      "text/plain": [
       "[('transmission_type_DIRECT_DRIVE', -21063.731193436586),\n",
       " ('make_Dodge', -10087.605337427469),\n",
       " ('vehicle_style_Coupe', -9124.557662854904),\n",
       " ('make_Ford', -9004.194401318597),\n",
       " ('vehicle_style_2dr Hatchback', -8801.469241232058),\n",
       " ('vehicle_style_Regular Cab Pickup', -7847.443518774831),\n",
       " ('make_Nissan', -7541.080331580104),\n",
       " ('make_Subaru', -7166.023878574964),\n",
       " ('make_Chevrolet', -6772.9916967800045),\n",
       " ('make_Mazda', -6064.0875227920405),\n",
       " ('number_of_doors', -2280.0023474490326),\n",
       " ('vehicle_size_Midsize', -2187.09695228422),\n",
       " ('driven_wheels_rear wheel drive', -2083.4223997344125),\n",
       " ('vehicle_style_Extended Cab Pickup', -1616.3605667603663),\n",
       " ('vehicle_style_Passenger Minivan', -1482.176614135477),\n",
       " ('vehicle_style_4dr Hatchback', -1140.6068199806937),\n",
       " ('make_Volkswagen', -1021.7203159204429),\n",
       " ('driven_wheels_front wheel drive', -810.73573430484),\n",
       " ('vehicle_style_Convertible', -792.4263016617382),\n",
       " ('engine_cylinders', 108.79573098602911),\n",
       " ('engine_hp', 156.09738588740478),\n",
       " ('highway_mpg', 202.78145922501182),\n",
       " ('city_mpg', 277.31580490269886),\n",
       " ('vehicle_style_Wagon', 735.8441727585384),\n",
       " ('vehicle_style_Sedan', 952.3198515754638),\n",
       " ('vehicle_size_Large', 958.3218099583215),\n",
       " ('vehicle_style_Crew Cab Pickup', 1018.7809821760051),\n",
       " ('driven_wheels_four wheel drive', 1080.8055228668882),\n",
       " ('vehicle_size_Compact', 1228.7751423256136),\n",
       " ('driven_wheels_all wheel drive', 1813.3526111726947),\n",
       " ('vehicle_style_Cargo Minivan', 2484.0871390976613),\n",
       " ('vehicle_style_4dr SUV', 3924.236914528123),\n",
       " ('transmission_type_MANUAL', 4524.820082298643),\n",
       " ('vehicle_style_Cargo Van', 6506.447213757504),\n",
       " ('vehicle_style_Passenger Van', 7546.511398030792),\n",
       " ('vehicle_style_Convertible SUV', 7636.813053476267),\n",
       " ('transmission_type_AUTOMATIC', 7785.255995257898),\n",
       " ('transmission_type_AUTOMATED_MANUAL', 8753.655115879621),\n",
       " ('make_BMW', 11033.577105162276),\n",
       " ('make_Maserati', 36624.126379232825)]"
      ]
     },
     "execution_count": 22,
     "metadata": {},
     "output_type": "execute_result"
    }
   ],
   "source": [
    "get_coefficients(Xtrain.columns, model)"
   ]
  },
  {
   "cell_type": "markdown",
   "metadata": {},
   "source": [
    "\n",
    "  \n",
    "*Python Environments*\n",
    "\n",
    "7. While training and running your model should have been pretty fast, imagine that you are working with orders of magnitude more data -- so you want to train the model overnight, rather than interactively.\n",
    "  * Export your Jupyter notebook as a `.py` script.\n",
    "  * Be sure to add `print()` calls so you can see important data.\n",
    "  * Run your `.py` file from the command line, and verify the results.\n",
    "6. Think back to Lesson 8, on the data science ecosystem. \n",
    "  * Which package sounded most interesting/useful to you? \n",
    "  * If you are working on a platform with `conda`, create a new environment called \"temporary\".\n",
    "  * Activate the `temporary` environment.\n",
    "  * Install your package of choice package in `temporary`. \n",
    "  * Try to import it in a notebook (remember you'll need to get your conda environment working in Jupyter), and look in the online documentation (just google \"package-name docs\") to figure out what you can do with this package."
   ]
  }
 ],
 "metadata": {
  "kernelspec": {
   "display_name": "Python 3",
   "language": "python",
   "name": "python3"
  },
  "language_info": {
   "codemirror_mode": {
    "name": "ipython",
    "version": 3
   },
   "file_extension": ".py",
   "mimetype": "text/x-python",
   "name": "python",
   "nbconvert_exporter": "python",
   "pygments_lexer": "ipython3",
   "version": "3.7.3"
  }
 },
 "nbformat": 4,
 "nbformat_minor": 4
}
