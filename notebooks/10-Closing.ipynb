{
 "cells": [
  {
   "cell_type": "markdown",
   "metadata": {
    "slideshow": {
     "slide_type": "slide"
    }
   },
   "source": [
    "# Closing"
   ]
  },
  {
   "cell_type": "markdown",
   "metadata": {
    "slideshow": {
     "slide_type": "slide"
    }
   },
   "source": [
    "## Thanks for coming!\n",
    "We appreciate any feedback – please fill out the survey if you haven't."
   ]
  },
  {
   "cell_type": "markdown",
   "metadata": {
    "slideshow": {
     "slide_type": "slide"
    }
   },
   "source": [
    "## Going Forward\n",
    "The class resources will stay on GitHub and on Binder\n",
    "\n",
    "Stay interested! There are lots of ways to learn more:\n",
    "- **Books**: The Python Data Science Handbook, Python for Data Analysis\n",
    "- **Podcasts**: Talk Python to Me, Python Bytes\n",
    "- **Newsletters**: The O'Reilly Data Newsletter, Python Weekly\n",
    "- **Google!!** The internet is your best friend"
   ]
  }
 ],
 "metadata": {
  "kernelspec": {
   "display_name": "uc-python",
   "language": "python",
   "name": "python3"
  },
  "language_info": {
   "codemirror_mode": {
    "name": "ipython",
    "version": 3
   },
   "file_extension": ".py",
   "mimetype": "text/x-python",
   "name": "python",
   "nbconvert_exporter": "python",
   "pygments_lexer": "ipython3",
   "version": "3.7.3"
  }
 },
 "nbformat": 4,
 "nbformat_minor": 2
}
