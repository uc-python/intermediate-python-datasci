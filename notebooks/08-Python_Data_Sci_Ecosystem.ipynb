{
 "cells": [
  {
   "cell_type": "markdown",
   "metadata": {
    "slideshow": {
     "slide_type": "slide"
    }
   },
   "source": [
    "# The Python Data Science Ecosystem"
   ]
  },
  {
   "cell_type": "markdown",
   "metadata": {
    "slideshow": {
     "slide_type": "slide"
    }
   },
   "source": [
    "## Applied Review"
   ]
  },
  {
   "cell_type": "markdown",
   "metadata": {
    "slideshow": {
     "slide_type": "fragment"
    }
   },
   "source": [
    "So far in this course, we've talked about the following tools:"
   ]
  },
  {
   "cell_type": "markdown",
   "metadata": {
    "slideshow": {
     "slide_type": "fragment"
    }
   },
   "source": [
    "- **Python itself**: control flow, functions, etc"
   ]
  },
  {
   "cell_type": "markdown",
   "metadata": {
    "slideshow": {
     "slide_type": "fragment"
    }
   },
   "source": [
    "- **Jupyter**"
   ]
  },
  {
   "cell_type": "markdown",
   "metadata": {
    "slideshow": {
     "slide_type": "fragment"
    }
   },
   "source": [
    "- **Pandas**"
   ]
  },
  {
   "cell_type": "markdown",
   "metadata": {
    "slideshow": {
     "slide_type": "fragment"
    }
   },
   "source": [
    "- **The shell**"
   ]
  },
  {
   "cell_type": "markdown",
   "metadata": {
    "slideshow": {
     "slide_type": "fragment"
    }
   },
   "source": [
    "- **Conda**"
   ]
  },
  {
   "cell_type": "markdown",
   "metadata": {
    "slideshow": {
     "slide_type": "slide"
    }
   },
   "source": [
    "If you took the introductory course with us, we also discussed **matplotlib** and **seaborn**."
   ]
  },
  {
   "cell_type": "markdown",
   "metadata": {
    "slideshow": {
     "slide_type": "fragment"
    }
   },
   "source": [
    "And this afternoon, we'll talk about **scikit-learn**."
   ]
  },
  {
   "cell_type": "markdown",
   "metadata": {
    "slideshow": {
     "slide_type": "slide"
    }
   },
   "source": [
    "And that was a lot!\n",
    "But in this session we're going to talk about the things we simply can't cover -- the Python ecosystem is expansive and full of useful technologies."
   ]
  },
  {
   "cell_type": "markdown",
   "metadata": {
    "slideshow": {
     "slide_type": "slide"
    }
   },
   "source": [
    "## Why is there so much?"
   ]
  },
  {
   "cell_type": "markdown",
   "metadata": {
    "slideshow": {
     "slide_type": "fragment"
    }
   },
   "source": [
    "A few reasons:\n",
    "- Python is very popular in many different fields (and growing in popularity in others): data science, web development, shell scripting, and more.\n",
    "- Open ecosystems encourage rapid, iterative tool creation. Have an idea? You can build it and publish it for everyone to use.\n",
    "- Many huge companies use Python very heavily (Netflix, YouTube, Uber...) and sometimes open-source the tools they create for internal use."
   ]
  },
  {
   "cell_type": "markdown",
   "metadata": {
    "slideshow": {
     "slide_type": "slide"
    }
   },
   "source": [
    "## Jake Vanderplas' Python Data Science Ecosystem"
   ]
  },
  {
   "cell_type": "markdown",
   "metadata": {
    "slideshow": {
     "slide_type": "fragment"
    }
   },
   "source": [
    "In 2017, Jake Vanderplas (Python author, developer, and advocate) spoke at PyCon (the biggest Python conference) about the Python data science ecosystem.\n",
    "Let's look at his diagram."
   ]
  },
  {
   "cell_type": "markdown",
   "metadata": {
    "slideshow": {
     "slide_type": "fragment"
    }
   },
   "source": [
    "Notably, the diagram is arranged to show that higher-level libraries are built upon lower-level libraries -- a common development approach in open ecoystems."
   ]
  },
  {
   "cell_type": "markdown",
   "metadata": {
    "slideshow": {
     "slide_type": "slide"
    }
   },
   "source": [
    "<center><img src=\"images/jakevdp_ecosystem.jpg\" style=\"height:700px;\"/></center>"
   ]
  },
  {
   "cell_type": "markdown",
   "metadata": {
    "slideshow": {
     "slide_type": "slide"
    }
   },
   "source": [
    "Which of these should you think about using?\n",
    "- **scikit-image** for image processing\n",
    "- **statsmodels** for statistical testing and inference (vs scikit-learn, which really excels at *modeling*)\n",
    "- **Cython** for low-level performance optimization\n",
    "- **NetworkX** for graphs (in the computer science sense)\n",
    "- **astropy** and **Biopython** if you work in one of those domains"
   ]
  },
  {
   "cell_type": "markdown",
   "metadata": {
    "slideshow": {
     "slide_type": "slide"
    }
   },
   "source": [
    "## Paco Nathan's Python Data Science Landscape"
   ]
  },
  {
   "cell_type": "markdown",
   "metadata": {
    "slideshow": {
     "slide_type": "fragment"
    }
   },
   "source": [
    "More recently, Paco Nathan (data science researcher and frequent conference speaker) wrote a blog post in which he illustrated the current Python data science landscape."
   ]
  },
  {
   "cell_type": "markdown",
   "metadata": {
    "slideshow": {
     "slide_type": "slide"
    }
   },
   "source": [
    "<center><img src=\"images/paco_nathan_ecosystem.png\" style=\"height:700px;\"/></center>"
   ]
  },
  {
   "cell_type": "markdown",
   "metadata": {
    "slideshow": {
     "slide_type": "slide"
    }
   },
   "source": [
    "Many similarities to the other graphic, but also many new technologies!"
   ]
  },
  {
   "cell_type": "markdown",
   "metadata": {
    "slideshow": {
     "slide_type": "fragment"
    }
   },
   "source": [
    "Which new things here should you think about using?\n",
    "- **Flask** for developing simple web apps\n",
    "- **Ray** and **PySpark** for distributed computing (working with really big data)\n",
    "- **Altair** for intuitive, declarative-style plotting.\n",
    "- **Plotly** for interactive graphics and dashboards\n",
    "- **SQLAlchemy** for interacting with databases (Oracle, SQLServer, MySQL)\n",
    "- **Requests**, **Scrapy**, and **BeautifulSoup** for pulling data from the internet\n",
    "- **Keras** and **Tensorflow** for deep learning -- useful for modeling with perceptual data, like images or sounds\n",
    "- **Airflow** for candence- or trigger-based automation\n",
    "- **spaCy** for cutting-edge natural language processing"
   ]
  },
  {
   "cell_type": "markdown",
   "metadata": {
    "slideshow": {
     "slide_type": "slide"
    }
   },
   "source": [
    "## How To Keep Up"
   ]
  },
  {
   "cell_type": "markdown",
   "metadata": {
    "slideshow": {
     "slide_type": "fragment"
    }
   },
   "source": [
    "Following the developments in such a full space can be daunting, but we recommend a few things:"
   ]
  },
  {
   "cell_type": "markdown",
   "metadata": {
    "slideshow": {
     "slide_type": "fragment"
    }
   },
   "source": [
    "- **Subscribe to newsletters**. The [O'Reilly Data Newsletter](https://www.oreilly.com/data/newsletter.html) and [Python Weekly](https://www.pythonweekly.com) are reliably excellent.\n",
    "- **Listen to podcasts**. [Talk Python to Me](https://talkpython.fm) and [Python Bytes](https://pythonbytes.fm) are both good. While neither is data science-specific, they cover a wide range of topics and ideas.\n",
    "- **Google**! We've discovered many good packages by searching for something specific. For example, many services offer a Python package so you can interact with them programmatically. I use the [Todoist API](https://github.com/Doist/todoist-python) to automatically update my todo-list on a regular cadence."
   ]
  },
  {
   "cell_type": "markdown",
   "metadata": {
    "slideshow": {
     "slide_type": "slide"
    }
   },
   "source": [
    "## Questions\n",
    "Are there any tasks you do regularly that you think might have packages?\n",
    "\n",
    "Are there any tools we saw above that you'd like to hear more about?"
   ]
  },
  {
   "cell_type": "markdown",
   "metadata": {
    "slideshow": {
     "slide_type": "slide"
    }
   },
   "source": [
    "## Cheat Sheet\n",
    "This section introduced a lot of new packages and tools.\n",
    "We'd like to leave you with a cheat sheet to refer to in the future when you're thinking about what Python package might be a good fit for your needs."
   ]
  },
  {
   "cell_type": "markdown",
   "metadata": {},
   "source": [
    "Topic | Relevant Packages | Are Any Especially Beginner-Friendly?\n",
    "------|-------------------|----------------------------------\n",
    "**Plotting**| matplotlib, seaborn, Bokeh, altair, plotly | seaborn, altair\n",
    "**Database interaction** | sqlalchemy | sqlalchemy\n",
    "**Deep Learning** | keras, tensorflow | keras\n",
    "**Web Development** | flask |\n",
    "**Getting Data from the Web** | requests, scrapy, beautifulsoup | requests\n",
    "**Statistical Modeling** | scikit-learn, statsmodels|\n",
    "**Distributed Computing** | pyspark |\n"
   ]
  }
 ],
 "metadata": {
  "kernelspec": {
   "display_name": "Python 3",
   "language": "python",
   "name": "python3"
  },
  "language_info": {
   "codemirror_mode": {
    "name": "ipython",
    "version": 3
   },
   "file_extension": ".py",
   "mimetype": "text/x-python",
   "name": "python",
   "nbconvert_exporter": "python",
   "pygments_lexer": "ipython3",
   "version": "3.11.6"
  }
 },
 "nbformat": 4,
 "nbformat_minor": 4
}
